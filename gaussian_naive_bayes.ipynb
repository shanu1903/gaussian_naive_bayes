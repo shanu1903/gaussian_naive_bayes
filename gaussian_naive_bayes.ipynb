{
 "cells": [
  {
   "cell_type": "code",
   "execution_count": 1,
   "metadata": {},
   "outputs": [],
   "source": [
    "##importint dataset from library\n",
    "from sklearn import datasets\n",
    "iris=datasets.load_iris()"
   ]
  },
  {
   "cell_type": "code",
   "execution_count": 2,
   "metadata": {},
   "outputs": [],
   "source": [
    "#converting dataset into dataframe \n",
    "import pandas as pd\n",
    "df=pd.DataFrame(iris.data)\n",
    "import numpy as np"
   ]
  },
  {
   "cell_type": "code",
   "execution_count": 3,
   "metadata": {},
   "outputs": [
    {
     "name": "stdout",
     "output_type": "stream",
     "text": [
      "['sepal length (cm)', 'sepal width (cm)', 'petal length (cm)', 'petal width (cm)']\n",
      "     0    1    2    3\n",
      "0  5.1  3.5  1.4  0.2\n",
      "1  4.9  3.0  1.4  0.2\n",
      "2  4.7  3.2  1.3  0.2\n",
      "3  4.6  3.1  1.5  0.2\n",
      "4  5.0  3.6  1.4  0.2\n",
      "      0    1    2    3\n",
      "50  7.0  3.2  4.7  1.4\n",
      "51  6.4  3.2  4.5  1.5\n",
      "52  6.9  3.1  4.9  1.5\n",
      "53  5.5  2.3  4.0  1.3\n",
      "54  6.5  2.8  4.6  1.5\n",
      "       0    1    2    3\n",
      "100  6.3  3.3  6.0  2.5\n",
      "101  5.8  2.7  5.1  1.9\n",
      "102  7.1  3.0  5.9  2.1\n",
      "103  6.3  2.9  5.6  1.8\n",
      "104  6.5  3.0  5.8  2.2\n"
     ]
    }
   ],
   "source": [
    "# here we have our iris data \n",
    "print(iris.feature_names)\n",
    "#dataset whose label =0\n",
    "d1=df.iloc[0:49,:]\n",
    "print(d1.head())\n",
    "#dataset whose label =1\n",
    "d2=df.iloc[50:99,:]\n",
    "print(d2.head())\n",
    "#dataset whose label =2\n",
    "d3=df.iloc[100:149,:]\n",
    "print(d3.head())"
   ]
  },
  {
   "cell_type": "code",
   "execution_count": 4,
   "metadata": {},
   "outputs": [
    {
     "data": {
      "text/plain": [
       "pandas.core.frame.DataFrame"
      ]
     },
     "execution_count": 4,
     "metadata": {},
     "output_type": "execute_result"
    }
   ],
   "source": [
    "target=pd.DataFrame(iris.target)\n",
    "type(target)"
   ]
  },
  {
   "cell_type": "code",
   "execution_count": 5,
   "metadata": {},
   "outputs": [
    {
     "name": "stderr",
     "output_type": "stream",
     "text": [
      "/home/shailesh/anaconda3/lib/python3.6/site-packages/sklearn/cross_validation.py:41: DeprecationWarning: This module was deprecated in version 0.18 in favor of the model_selection module into which all the refactored classes and functions are moved. Also note that the interface of the new CV iterators are different from that of this module. This module will be removed in 0.20.\n",
      "  \"This module will be removed in 0.20.\", DeprecationWarning)\n"
     ]
    }
   ],
   "source": [
    "from sklearn import cross_validation as cv"
   ]
  },
  {
   "cell_type": "code",
   "execution_count": 17,
   "metadata": {},
   "outputs": [],
   "source": [
    "#dividing data into train set and test set\n",
    "#x_train ,x_test contains our features and eg: sepal length,width\n",
    "#y_train, y_test contains our label(or target value) eg: type of iris\n",
    "x_train,x_test,y_train,y_test=cv.train_test_split(df,target,test_size=0.2)"
   ]
  },
  {
   "cell_type": "code",
   "execution_count": 7,
   "metadata": {},
   "outputs": [
    {
     "data": {
      "text/html": [
       "<div>\n",
       "<style scoped>\n",
       "    .dataframe tbody tr th:only-of-type {\n",
       "        vertical-align: middle;\n",
       "    }\n",
       "\n",
       "    .dataframe tbody tr th {\n",
       "        vertical-align: top;\n",
       "    }\n",
       "\n",
       "    .dataframe thead th {\n",
       "        text-align: right;\n",
       "    }\n",
       "</style>\n",
       "<table border=\"1\" class=\"dataframe\">\n",
       "  <thead>\n",
       "    <tr style=\"text-align: right;\">\n",
       "      <th></th>\n",
       "      <th>0</th>\n",
       "      <th>1</th>\n",
       "      <th>2</th>\n",
       "      <th>3</th>\n",
       "    </tr>\n",
       "  </thead>\n",
       "  <tbody>\n",
       "    <tr>\n",
       "      <th>count</th>\n",
       "      <td>120.000000</td>\n",
       "      <td>120.000000</td>\n",
       "      <td>120.000000</td>\n",
       "      <td>120.000000</td>\n",
       "    </tr>\n",
       "    <tr>\n",
       "      <th>mean</th>\n",
       "      <td>5.868333</td>\n",
       "      <td>3.030833</td>\n",
       "      <td>3.861667</td>\n",
       "      <td>1.237500</td>\n",
       "    </tr>\n",
       "    <tr>\n",
       "      <th>std</th>\n",
       "      <td>0.844257</td>\n",
       "      <td>0.416427</td>\n",
       "      <td>1.756150</td>\n",
       "      <td>0.761915</td>\n",
       "    </tr>\n",
       "    <tr>\n",
       "      <th>min</th>\n",
       "      <td>4.400000</td>\n",
       "      <td>2.000000</td>\n",
       "      <td>1.000000</td>\n",
       "      <td>0.100000</td>\n",
       "    </tr>\n",
       "    <tr>\n",
       "      <th>25%</th>\n",
       "      <td>5.100000</td>\n",
       "      <td>2.800000</td>\n",
       "      <td>1.600000</td>\n",
       "      <td>0.300000</td>\n",
       "    </tr>\n",
       "    <tr>\n",
       "      <th>50%</th>\n",
       "      <td>5.750000</td>\n",
       "      <td>3.000000</td>\n",
       "      <td>4.300000</td>\n",
       "      <td>1.300000</td>\n",
       "    </tr>\n",
       "    <tr>\n",
       "      <th>75%</th>\n",
       "      <td>6.425000</td>\n",
       "      <td>3.300000</td>\n",
       "      <td>5.225000</td>\n",
       "      <td>1.825000</td>\n",
       "    </tr>\n",
       "    <tr>\n",
       "      <th>max</th>\n",
       "      <td>7.900000</td>\n",
       "      <td>4.200000</td>\n",
       "      <td>6.900000</td>\n",
       "      <td>2.500000</td>\n",
       "    </tr>\n",
       "  </tbody>\n",
       "</table>\n",
       "</div>"
      ],
      "text/plain": [
       "                0           1           2           3\n",
       "count  120.000000  120.000000  120.000000  120.000000\n",
       "mean     5.868333    3.030833    3.861667    1.237500\n",
       "std      0.844257    0.416427    1.756150    0.761915\n",
       "min      4.400000    2.000000    1.000000    0.100000\n",
       "25%      5.100000    2.800000    1.600000    0.300000\n",
       "50%      5.750000    3.000000    4.300000    1.300000\n",
       "75%      6.425000    3.300000    5.225000    1.825000\n",
       "max      7.900000    4.200000    6.900000    2.500000"
      ]
     },
     "execution_count": 7,
     "metadata": {},
     "output_type": "execute_result"
    }
   ],
   "source": [
    "x_train.describe()"
   ]
  },
  {
   "cell_type": "code",
   "execution_count": 8,
   "metadata": {},
   "outputs": [],
   "source": [
    "x_train.iloc[:,1].var()\n",
    "import math as m"
   ]
  },
  {
   "cell_type": "code",
   "execution_count": 9,
   "metadata": {},
   "outputs": [
    {
     "data": {
      "text/plain": [
       "3.0308333333333337"
      ]
     },
     "execution_count": 9,
     "metadata": {},
     "output_type": "execute_result"
    }
   ],
   "source": [
    "u=x_train.iloc[:,1].mean()\n",
    "v=x_train.iloc[:,1].var()\n",
    "p=3.14\n",
    "u"
   ]
  },
  {
   "cell_type": "code",
   "execution_count": null,
   "metadata": {},
   "outputs": [],
   "source": []
  },
  {
   "cell_type": "code",
   "execution_count": 10,
   "metadata": {},
   "outputs": [],
   "source": [
    "z=x_train.iloc[:,1].min()\n",
    "x1=[]\n",
    "x2=[]\n",
    "\n",
    "while(z<=x_train.iloc[:,1].max()):\n",
    "    x1.append(z)\n",
    "    x2.append((1/(m.sqrt(2*p*v)))*(1/(np.exp((z-u)**2/(2*v)))))\n",
    "    z+=0.03\n",
    "    "
   ]
  },
  {
   "cell_type": "code",
   "execution_count": 11,
   "metadata": {},
   "outputs": [],
   "source": [
    "import matplotlib.pyplot as plt"
   ]
  },
  {
   "cell_type": "code",
   "execution_count": 12,
   "metadata": {},
   "outputs": [
    {
     "data": {
      "text/plain": [
       "<matplotlib.collections.PathCollection at 0x7fd43d3863c8>"
      ]
     },
     "execution_count": 12,
     "metadata": {},
     "output_type": "execute_result"
    },
    {
     "data": {
      "image/png": "[encoded data removed]",
      "text/plain": [
       "<matplotlib.figure.Figure at 0x7fd44476ec18>"
      ]
     },
     "metadata": {},
     "output_type": "display_data"
    }
   ],
   "source": [
    "#normal or gaussian graph\n",
    "# at mean probability is maximum\n",
    "plt.scatter(x1,x2)"
   ]
  },
  {
   "cell_type": "code",
   "execution_count": 13,
   "metadata": {},
   "outputs": [],
   "source": [
    "##gaussian naive bayes from scratch"
   ]
  },
  {
   "cell_type": "code",
   "execution_count": 18,
   "metadata": {},
   "outputs": [],
   "source": [
    "def findprob(df,x):    #find probability using normal distribution for continuous\n",
    "    u=df.mean();\n",
    "    v=df.var();\n",
    "    p=(1/(m.sqrt(2*3.14*v)))*(1/(np.exp((x-u)**2/(2*v))))   #gaussian formula\n",
    "    return p\n",
    "\n",
    "\n",
    "def naivebayes(df,target,x1,y_pre):\n",
    "    pi=[]                              #list that store different target value and there probability\n",
    "    x=target.iloc[:,0].unique()       #creating unique target list eg: 0,1,2.\n",
    "    for i in range(len(x)):          #looping through each x value  \n",
    "        p=1                         #calculating probability given that target is x[i]  eg:x=0,x=1,x=2\n",
    "        d=df[target.iloc[:,0]==x[i]]  #creating datasets given that target is x[i]\n",
    "        for j in range(d.shape[1]):   #looping through each column of dataset that is created for given target\n",
    "            temp=findprob(d.iloc[:,j],x1[j])   #now calculating probability for given point eg p(x1(i))\n",
    "            p*=temp                           #calculating p(x1)*p(x2)*p(x3)*..........\n",
    "        temp=len(target[target[0]==x[i]])/len(target)  #calculating probability of given target eg: p(y=yi)\n",
    "        pi.append([x[i],temp*p])               #appendding target and there probability  eg:[0,0.9],[1,0.1],[2,0.1]\n",
    "    m=0\n",
    "    for i in range(len(pi)):              # finding maximum probability target in pi[] list\n",
    "        if(pi[i][1]>m):                   #and storing there target value in predicted value\n",
    "            m=pi[i][1]\n",
    "            y=i;\n",
    "    y_pre.append(pi[y][0])\n",
    "    return y_pre\n",
    "        \n",
    "#driver function\n",
    "def naiverun(df,target,test):\n",
    "    y_pre=[]                               #creating our predicted value list\n",
    "    for i in range(test.shape[0]):         #looping through each test data\n",
    "        xi=test.iloc[i]\n",
    "        y_pre=naivebayes(df,target,xi,y_pre)     #calculating predicted value for xi\n",
    "    return y_pre\n",
    "    \n",
    "# calculate precision\n",
    "def precision(y_pre,y_test):\n",
    "    count=0                                   #finding accuracy\n",
    "    for i in range(len(y_pre)):\n",
    "        if(y_pre[i]==y_test.iloc[i,0]):\n",
    "            count=count+1\n",
    "    print(count/len(y_pre))                     #print accuracy\n",
    "    print(count)                                #print total correct predictions\n",
    "    print(len(y_pre))                           #print total nomber of dataset"
   ]
  },
  {
   "cell_type": "code",
   "execution_count": 19,
   "metadata": {},
   "outputs": [
    {
     "name": "stdout",
     "output_type": "stream",
     "text": [
      "0.9333333333333333\n",
      "28\n",
      "30\n"
     ]
    }
   ],
   "source": [
    "y_pre=naiverun(x_train,y_train,x_test)\n",
    "precision(y_pre,y_test)"
   ]
  },
  {
   "cell_type": "code",
   "execution_count": 16,
   "metadata": {},
   "outputs": [
    {
     "name": "stdout",
     "output_type": "stream",
     "text": [
      "90     1\n",
      "13     0\n",
      "145    2\n",
      "42     0\n",
      "14     0\n",
      "5      0\n",
      "56     1\n",
      "77     1\n",
      "21     0\n",
      "125    2\n",
      "15     0\n",
      "50     1\n",
      "83     1\n",
      "17     0\n",
      "78     1\n",
      "1      0\n",
      "8      0\n",
      "36     0\n",
      "63     1\n",
      "126    2\n",
      "110    2\n",
      "114    2\n",
      "68     1\n",
      "85     1\n",
      "111    2\n",
      "62     1\n",
      "91     1\n",
      "19     0\n",
      "39     0\n",
      "12     0\n",
      "Name: 0, dtype: int64 [1, 0, 2, 0, 0, 0, 2, 2, 0, 2, 0, 1, 2, 0, 1, 0, 0, 0, 1, 2, 2, 2, 1, 1, 2, 1, 1, 0, 0, 0]\n"
     ]
    }
   ],
   "source": [
    "print(y_test.iloc[:,0],y_pre)"
   ]
  }
 ],
 "metadata": {
  "kernelspec": {
   "display_name": "Python 3",
   "language": "python",
   "name": "python3"
  },
  "language_info": {
   "codemirror_mode": {
    "name": "ipython",
    "version": 3
   },
   "file_extension": ".py",
   "mimetype": "text/x-python",
   "name": "python",
   "nbconvert_exporter": "python",
   "pygments_lexer": "ipython3",
   "version": "3.6.4"
  }
 },
 "nbformat": 4,
 "nbformat_minor": 2
}
